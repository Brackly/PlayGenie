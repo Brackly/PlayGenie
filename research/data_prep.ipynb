{
 "cells": [
  {
   "metadata": {
    "ExecuteTime": {
     "end_time": "2025-08-15T13:15:56.901618Z",
     "start_time": "2025-08-15T13:13:42.299984Z"
    }
   },
   "cell_type": "code",
   "source": [
    "import math\n",
    "import torch\n",
    "import numpy as np\n",
    "from typing import Union\n",
    "import pandas as pd\n",
    "from sentence_transformers import SentenceTransformer"
   ],
   "id": "3112f11fff5669a9",
   "outputs": [
    {
     "name": "stderr",
     "output_type": "stream",
     "text": [
      "C:\\Users\\BracklyMurunga\\Desktop\\AI SUNDAYS\\PlayGenie\\.venv\\Lib\\site-packages\\tqdm\\auto.py:21: TqdmWarning: IProgress not found. Please update jupyter and ipywidgets. See https://ipywidgets.readthedocs.io/en/stable/user_install.html\n",
      "  from .autonotebook import tqdm as notebook_tqdm\n",
      "C:\\Users\\BracklyMurunga\\Desktop\\AI SUNDAYS\\PlayGenie\\src\\playgenie\\data\\dataset.py:33: SettingWithCopyWarning: \n",
      "A value is trying to be set on a copy of a slice from a DataFrame.\n",
      "Try using .loc[row_indexer,col_indexer] = value instead\n",
      "\n",
      "See the caveats in the documentation: https://pandas.pydata.org/pandas-docs/stable/user_guide/indexing.html#returning-a-view-versus-a-copy\n",
      "  df[col] = df[col].apply(process_text)\n",
      "C:\\Users\\BracklyMurunga\\Desktop\\AI SUNDAYS\\PlayGenie\\src\\playgenie\\data\\dataset.py:34: SettingWithCopyWarning: \n",
      "A value is trying to be set on a copy of a slice from a DataFrame.\n",
      "Try using .loc[row_indexer,col_indexer] = value instead\n",
      "\n",
      "See the caveats in the documentation: https://pandas.pydata.org/pandas-docs/stable/user_guide/indexing.html#returning-a-view-versus-a-copy\n",
      "  df['trackname'] = df['trackname'].str.cat(df['artistname'], sep=' by ')\n"
     ]
    }
   ],
   "execution_count": 1
  },
  {
   "metadata": {},
   "cell_type": "code",
   "outputs": [],
   "execution_count": null,
   "source": [
    "def preprocess_df(df: pd.DataFrame) -> pd.DataFrame:\n",
    "        df = df.dropna()\n",
    "\n",
    "        def process_text(text: str) -> Union[str, np.nan]:\n",
    "            try:\n",
    "                return str(text).strip().lower()\n",
    "            except Exception:\n",
    "                return np.nan\n",
    "\n",
    "        for col in df.columns:\n",
    "            df[col] = df[col].apply(process_text)\n",
    "        df['trackname'] = df['trackname'].str.cat(df['artistname'], sep=' by ')\n",
    "        df = df.groupby(by=\"playlistname\").agg(list).reset_index().drop(columns=['playlistname'])\n",
    "        df = df[[len(x) > 40 for x in df['trackname']]]\n",
    "        return df[['trackname']].reset_index()"
   ],
   "id": "5467f10dbca26d88"
  },
  {
   "metadata": {},
   "cell_type": "code",
   "outputs": [],
   "execution_count": null,
   "source": [
    "df = pd.read_csv(\"../data/spotify_dataset.csv\",on_bad_lines='skip')\n",
    "sentence_encoder = SentenceTransformer(\"all-MiniLM-L6-v2\")\n",
    "df = df.rename(columns={x: x.strip().replace('\"', '') for x in df.columns})\n",
    "\n",
    "songs_to_index = {x: i for i, x in enumerate(df['trackname'].unique())}\n",
    "playlist_to_index = {x: i for i, x in enumerate(df['playlistname'].unique())}\n",
    "\n",
    "df = preprocess_df(df)"
   ],
   "id": "1cc1bcfff7a832e1"
  },
  {
   "metadata": {
    "jupyter": {
     "is_executing": true
    },
    "ExecuteTime": {
     "start_time": "2025-08-15T14:05:58.997531Z"
    }
   },
   "cell_type": "code",
   "source": [
    "from tqdm import tqdm\n",
    "\n",
    "train_data = []\n",
    "val_data = []\n",
    "test_data = []\n",
    "\n",
    "for _,row in tqdm(df.iterrows()):\n",
    "    context = 11\n",
    "    splits = len(row['trackname'])/context\n",
    "\n",
    "    playlist = np.array_split(np.array(row['trackname']),splits)\n",
    "    train_idx = math.floor(splits*0.6)\n",
    "    val_idx = math.floor(splits-1)\n",
    "\n",
    "    train_data = train_data+[sentence_encoder.encode(p) for p in playlist[:train_idx]]\n",
    "    val_data = val_data+[sentence_encoder.encode(p) for p in playlist[train_idx:val_idx]]\n",
    "    test_data = test_data+[sentence_encoder.encode(p) for p in playlist[val_idx:]]\n",
    "\n",
    "train_data = torch.tensor(train_data)\n",
    "val_data = torch.tensor(val_data)\n",
    "test_data = torch.tensor(test_data)"
   ],
   "id": "b758b627fe443c09",
   "outputs": [
    {
     "name": "stderr",
     "output_type": "stream",
     "text": [
      "3286it [1:15:03,  1.85it/s]"
     ]
    }
   ],
   "execution_count": null
  },
  {
   "metadata": {
    "ExecuteTime": {
     "end_time": "2025-08-15T13:56:26.678820Z",
     "start_time": "2025-08-15T13:56:26.646261Z"
    }
   },
   "cell_type": "code",
   "source": [
    "from safetensors.torch import save_file\n",
    "\n",
    "tensors = {\n",
    "    \"train\": torch.tensor(train_data),\n",
    "    \"validation\": torch.tensor(val_data),\n",
    "    \"test\": torch.tensor(test_data)\n",
    "}\n",
    "save_file(tensors, \"spotify_dataset.safetensors\")"
   ],
   "id": "167ef5a8c550170",
   "outputs": [
    {
     "name": "stderr",
     "output_type": "stream",
     "text": [
      "C:\\Users\\BracklyMurunga\\AppData\\Local\\Temp\\ipykernel_27616\\100074661.py:4: UserWarning: To copy construct from a tensor, it is recommended to use sourceTensor.detach().clone() or sourceTensor.detach().clone().requires_grad_(True), rather than torch.tensor(sourceTensor).\n",
      "  \"train\": torch.tensor(train_data),\n",
      "C:\\Users\\BracklyMurunga\\AppData\\Local\\Temp\\ipykernel_27616\\100074661.py:5: UserWarning: To copy construct from a tensor, it is recommended to use sourceTensor.detach().clone() or sourceTensor.detach().clone().requires_grad_(True), rather than torch.tensor(sourceTensor).\n",
      "  \"validation\": torch.tensor(val_data),\n",
      "C:\\Users\\BracklyMurunga\\AppData\\Local\\Temp\\ipykernel_27616\\100074661.py:6: UserWarning: To copy construct from a tensor, it is recommended to use sourceTensor.detach().clone() or sourceTensor.detach().clone().requires_grad_(True), rather than torch.tensor(sourceTensor).\n",
      "  \"test\": torch.tensor(test_data)\n"
     ]
    }
   ],
   "execution_count": 59
  },
  {
   "metadata": {
    "ExecuteTime": {
     "end_time": "2025-08-15T14:04:21.923057Z",
     "start_time": "2025-08-15T14:04:21.911973Z"
    }
   },
   "cell_type": "code",
   "source": "",
   "id": "6fe05520de424864",
   "outputs": [],
   "execution_count": 73
  }
 ],
 "metadata": {
  "kernelspec": {
   "display_name": "Python 3",
   "language": "python",
   "name": "python3"
  },
  "language_info": {
   "codemirror_mode": {
    "name": "ipython",
    "version": 2
   },
   "file_extension": ".py",
   "mimetype": "text/x-python",
   "name": "python",
   "nbconvert_exporter": "python",
   "pygments_lexer": "ipython2",
   "version": "2.7.6"
  }
 },
 "nbformat": 4,
 "nbformat_minor": 5
}
