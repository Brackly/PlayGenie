{
 "cells": [
  {
   "cell_type": "code",
   "id": "initial_id",
   "metadata": {
    "collapsed": true,
    "ExecuteTime": {
     "end_time": "2025-08-17T18:38:50.086680Z",
     "start_time": "2025-08-17T18:38:46.203224Z"
    }
   },
   "source": [
    "import torch\n",
    "from playgenie.model import VAE\n",
    "from playgenie.loss import generative_loss\n",
    "import config\n",
    "from tqdm import tqdm\n",
    "from playgenie.data.dataset import get_dataloader"
   ],
   "outputs": [],
   "execution_count": 1
  },
  {
   "metadata": {
    "ExecuteTime": {
     "end_time": "2025-08-17T18:38:52.165361Z",
     "start_time": "2025-08-17T18:38:50.092105Z"
    }
   },
   "cell_type": "code",
   "source": [
    "DATA_PATH = '../data/spotify.safetensors'\n",
    "MODEL_SAVE_PATH = '../data/model.pt'\n",
    "DEVICE = torch.device('cuda' if torch.cuda.is_available() else 'cpu')\n",
    "EPOCHS = 1000\n",
    "model  = VAE(input_size=config.INPUT_DIM, hidden_size=config.HIDDEN_DIM,latent_size=config.LATENT_DIM)\n",
    "optim = torch.optim.Adam(model.parameters())"
   ],
   "id": "962c8818244cf9cf",
   "outputs": [],
   "execution_count": 2
  },
  {
   "metadata": {
    "ExecuteTime": {
     "end_time": "2025-08-17T13:14:33.793934Z",
     "start_time": "2025-08-17T13:14:07.624681Z"
    }
   },
   "cell_type": "code",
   "source": [
    "\n",
    "train_dataloader = get_dataloader(path=DATA_PATH,mode='train',batch_size=64)\n",
    "validation_dataloader = get_dataloader(path=DATA_PATH,mode='validation',batch_size=64)\n",
    "\n",
    "best_loss = float('inf')\n",
    "\n",
    "epoch_bar = tqdm(range(EPOCHS),desc=f'Training model',leave=False)\n",
    "for epoch in epoch_bar:\n",
    "    avg_loss = 0\n",
    "    avg_val_loss = 0\n",
    "\n",
    "    for inputs, targets in train_dataloader:\n",
    "        inputs, targets = inputs.to(DEVICE), targets.to(DEVICE)\n",
    "        preds,mu,log_var = model(inputs)\n",
    "\n",
    "        optim.zero_grad()\n",
    "        loss = generative_loss(preds=preds,targets=targets,mu= mu, log_var= log_var)\n",
    "        loss.backward()\n",
    "        optim.step()\n",
    "\n",
    "        avg_loss += loss.item()\n",
    "\n",
    "    avg_loss /= len(train_dataloader)\n",
    "\n",
    "    model.eval()\n",
    "    with torch.no_grad():\n",
    "        for val_inputs, val_targets in validation_dataloader:\n",
    "            val_inputs, val_targets = val_inputs.to(DEVICE), val_targets.to(DEVICE)\n",
    "            val_preds,val_mu,val_log_var = model(val_inputs)\n",
    "\n",
    "            loss = generative_loss(preds=val_preds,targets=val_targets,mu= val_mu, log_var= val_log_var)\n",
    "            avg_val_loss += loss.item()\n",
    "\n",
    "    avg_val_loss /= len(validation_dataloader)\n",
    "    epoch_bar.set_postfix(Epoch=(epoch+1),Train_Loss=avg_loss,Validation_loss=avg_val_loss)\n",
    "\n",
    "    if avg_val_loss < best_loss:\n",
    "        best_loss = avg_val_loss\n",
    "        torch.save(model.state_dict(), MODEL_SAVE_PATH)\n",
    "    if (epoch+1) % 100 == 0:\n",
    "        tqdm.write(f\"Epoch {epoch+1}: Train Loss={avg_loss:.4f}, Val Loss={avg_val_loss:.4f}\")"
   ],
   "id": "2a4bce76b004843c",
   "outputs": [
    {
     "name": "stderr",
     "output_type": "stream",
     "text": [
      "Training model:  11%|█         | 108/1000 [00:02<00:20, 43.03it/s, Epoch=109, Train_Loss=0.205, Validation_loss=0.344]"
     ]
    },
    {
     "name": "stdout",
     "output_type": "stream",
     "text": [
      "Epoch 100: Train Loss=0.2085, Val Loss=0.3424\n"
     ]
    },
    {
     "name": "stderr",
     "output_type": "stream",
     "text": [
      "Training model:  20%|██        | 205/1000 [00:05<00:17, 45.22it/s, Epoch=209, Train_Loss=0.18, Validation_loss=0.35]  "
     ]
    },
    {
     "name": "stdout",
     "output_type": "stream",
     "text": [
      "Epoch 200: Train Loss=0.1813, Val Loss=0.3503\n"
     ]
    },
    {
     "name": "stderr",
     "output_type": "stream",
     "text": [
      "Training model:  31%|███       | 308/1000 [00:07<00:13, 49.99it/s, Epoch=309, Train_Loss=0.17, Validation_loss=0.355] "
     ]
    },
    {
     "name": "stdout",
     "output_type": "stream",
     "text": [
      "Epoch 300: Train Loss=0.1709, Val Loss=0.3551\n"
     ]
    },
    {
     "name": "stderr",
     "output_type": "stream",
     "text": [
      "Training model:  40%|████      | 404/1000 [00:10<00:15, 38.87it/s, Epoch=407, Train_Loss=0.166, Validation_loss=0.356]"
     ]
    },
    {
     "name": "stdout",
     "output_type": "stream",
     "text": [
      "Epoch 400: Train Loss=0.1663, Val Loss=0.3562\n"
     ]
    },
    {
     "name": "stderr",
     "output_type": "stream",
     "text": [
      "Training model:  51%|█████     | 506/1000 [00:13<00:11, 43.23it/s, Epoch=508, Train_Loss=0.164, Validation_loss=0.353]"
     ]
    },
    {
     "name": "stdout",
     "output_type": "stream",
     "text": [
      "Epoch 500: Train Loss=0.1641, Val Loss=0.3529\n"
     ]
    },
    {
     "name": "stderr",
     "output_type": "stream",
     "text": [
      "Training model:  60%|██████    | 604/1000 [00:15<00:13, 28.98it/s, Epoch=605, Train_Loss=0.166, Validation_loss=0.355]"
     ]
    },
    {
     "name": "stdout",
     "output_type": "stream",
     "text": [
      "Epoch 600: Train Loss=0.1663, Val Loss=0.3488\n"
     ]
    },
    {
     "name": "stderr",
     "output_type": "stream",
     "text": [
      "Training model:  70%|███████   | 703/1000 [00:18<00:07, 40.31it/s, Epoch=708, Train_Loss=0.163, Validation_loss=0.34] "
     ]
    },
    {
     "name": "stdout",
     "output_type": "stream",
     "text": [
      "Epoch 700: Train Loss=0.1686, Val Loss=0.3447\n"
     ]
    },
    {
     "name": "stderr",
     "output_type": "stream",
     "text": [
      "Training model:  81%|████████  | 808/1000 [00:21<00:04, 44.73it/s, Epoch=811, Train_Loss=0.162, Validation_loss=0.334]"
     ]
    },
    {
     "name": "stdout",
     "output_type": "stream",
     "text": [
      "Epoch 800: Train Loss=0.1617, Val Loss=0.3332\n"
     ]
    },
    {
     "name": "stderr",
     "output_type": "stream",
     "text": [
      "Training model:  91%|█████████ | 907/1000 [00:23<00:01, 46.64it/s, Epoch=909, Train_Loss=0.161, Validation_loss=0.336]"
     ]
    },
    {
     "name": "stdout",
     "output_type": "stream",
     "text": [
      "Epoch 900: Train Loss=0.1614, Val Loss=0.3349\n"
     ]
    },
    {
     "name": "stderr",
     "output_type": "stream",
     "text": [
      "                                                                                                                        "
     ]
    },
    {
     "name": "stdout",
     "output_type": "stream",
     "text": [
      "Epoch 1000: Train Loss=0.1612, Val Loss=0.3222\n"
     ]
    },
    {
     "name": "stderr",
     "output_type": "stream",
     "text": [
      "\r"
     ]
    }
   ],
   "execution_count": 3
  }
 ],
 "metadata": {
  "kernelspec": {
   "display_name": "Python 3",
   "language": "python",
   "name": "python3"
  },
  "language_info": {
   "codemirror_mode": {
    "name": "ipython",
    "version": 2
   },
   "file_extension": ".py",
   "mimetype": "text/x-python",
   "name": "python",
   "nbconvert_exporter": "python",
   "pygments_lexer": "ipython2",
   "version": "2.7.6"
  }
 },
 "nbformat": 4,
 "nbformat_minor": 5
}
