{
 "cells": [
  {
   "cell_type": "code",
   "id": "initial_id",
   "metadata": {
    "collapsed": true,
    "ExecuteTime": {
     "end_time": "2025-09-07T19:39:33.370816Z",
     "start_time": "2025-09-07T19:39:28.599065Z"
    }
   },
   "source": [
    "import torch\n",
    "from playgenie.model import VAE\n",
    "from playgenie.loss import generative_loss\n",
    "import config\n",
    "from tqdm import tqdm\n",
    "from playgenie.data.dataset import get_dataloader"
   ],
   "outputs": [],
   "execution_count": 1
  },
  {
   "metadata": {
    "ExecuteTime": {
     "end_time": "2025-09-07T19:39:55.008653Z",
     "start_time": "2025-09-07T19:39:52.842727Z"
    }
   },
   "cell_type": "code",
   "source": [
    "model  = VAE(input_size=384, hidden_size=10,latent_size=2,encoder_n_heads=2,decoder_n_la=2)\n",
    "optim = torch.optim.Adam(model.parameters())"
   ],
   "id": "962c8818244cf9cf",
   "outputs": [],
   "execution_count": 3
  },
  {
   "metadata": {
    "ExecuteTime": {
     "end_time": "2025-09-07T19:39:55.930901Z",
     "start_time": "2025-09-07T19:39:55.920296Z"
    }
   },
   "cell_type": "code",
   "source": "model",
   "id": "b0a8eeaea1f37ea1",
   "outputs": [
    {
     "data": {
      "text/plain": [
       "VAE(\n",
       "  (encoder): Encoder(\n",
       "    (attention_block): AttentionBlock(\n",
       "      (mha): MultiHeadAttention(\n",
       "        (q_proj): Linear(in_features=384, out_features=384, bias=True)\n",
       "        (k_proj): Linear(in_features=384, out_features=384, bias=True)\n",
       "        (v_proj): Linear(in_features=384, out_features=384, bias=True)\n",
       "        (out_proj): Linear(in_features=384, out_features=384, bias=True)\n",
       "      )\n",
       "      (ff): Linear(in_features=384, out_features=384, bias=True)\n",
       "      (relu): ReLU()\n",
       "    )\n",
       "    (to_hidden): Linear(in_features=384, out_features=10, bias=True)\n",
       "    (output_mean): Linear(in_features=10, out_features=2, bias=True)\n",
       "    (output_logvar): Linear(in_features=10, out_features=2, bias=True)\n",
       "    (relu): ReLU()\n",
       "  )\n",
       "  (decoder): Decoder(\n",
       "    (input_layer): Linear(in_features=2, out_features=10, bias=True)\n",
       "    (mid_layers): Sequential(\n",
       "      (0): Linear(in_features=10, out_features=10, bias=True)\n",
       "      (1): ReLU()\n",
       "      (2): Linear(in_features=10, out_features=10, bias=True)\n",
       "      (3): ReLU()\n",
       "    )\n",
       "    (output_layer): Linear(in_features=10, out_features=384, bias=True)\n",
       "    (relu): ReLU()\n",
       "  )\n",
       ")"
      ]
     },
     "execution_count": 4,
     "metadata": {},
     "output_type": "execute_result"
    }
   ],
   "execution_count": 4
  },
  {
   "metadata": {
    "ExecuteTime": {
     "end_time": "2025-09-07T19:40:21.349703Z",
     "start_time": "2025-09-07T19:40:21.332390Z"
    }
   },
   "cell_type": "code",
   "source": "preds,mu,log_var=model(torch.zeros(1,10,384))",
   "id": "91658582826e261",
   "outputs": [],
   "execution_count": 5
  },
  {
   "metadata": {
    "ExecuteTime": {
     "end_time": "2025-09-07T19:42:45.360198Z",
     "start_time": "2025-09-07T19:42:45.354645Z"
    }
   },
   "cell_type": "code",
   "source": "mu.shape",
   "id": "56fe13808affce11",
   "outputs": [
    {
     "data": {
      "text/plain": [
       "torch.Size([1, 2])"
      ]
     },
     "execution_count": 7,
     "metadata": {},
     "output_type": "execute_result"
    }
   ],
   "execution_count": 7
  },
  {
   "metadata": {
    "ExecuteTime": {
     "end_time": "2025-08-25T20:37:22.409809Z",
     "start_time": "2025-08-25T20:37:22.241345Z"
    }
   },
   "cell_type": "code",
   "source": [
    "\n",
    "train_dataloader = get_dataloader(path=config.DATA_PATH,mode='train',batch_size=64)\n",
    "validation_dataloader = get_dataloader(path=config.DATA_PATH,mode='validation',batch_size=64)\n",
    "\n",
    "best_loss = float('inf')\n",
    "\n",
    "epoch_bar = tqdm(range(config.EPOCHS),desc=f'Training model',leave=False)\n",
    "for epoch in epoch_bar:\n",
    "    avg_loss = 0\n",
    "    avg_val_loss = 0\n",
    "\n",
    "    for inputs, targets in train_dataloader:\n",
    "        inputs, targets = inputs.to(config.DEVICE), targets.to(config.DEVICE)\n",
    "        preds,mu,log_var = model(inputs)\n",
    "\n",
    "        optim.zero_grad()\n",
    "        loss = generative_loss(preds=preds,targets=targets,mu= mu, log_var= log_var)\n",
    "        loss.backward()\n",
    "        optim.step()\n",
    "\n",
    "        avg_loss += loss.item()\n",
    "\n",
    "    avg_loss /= len(train_dataloader)\n",
    "\n",
    "    model.eval()\n",
    "    with torch.no_grad():\n",
    "        for val_inputs, val_targets in validation_dataloader:\n",
    "            val_inputs, val_targets = val_inputs.to(config.DEVICE), val_targets.to(config.DEVICE)\n",
    "            val_preds,val_mu,val_log_var = model(val_inputs)\n",
    "\n",
    "            loss = generative_loss(preds=val_preds,targets=val_targets,mu= val_mu, log_var= val_log_var)\n",
    "            avg_val_loss += loss.item()\n",
    "\n",
    "    avg_val_loss /= len(validation_dataloader)\n",
    "    epoch_bar.set_postfix(Epoch=(epoch+1),Train_Loss=avg_loss,Validation_loss=avg_val_loss)\n",
    "\n",
    "    if avg_val_loss < best_loss:\n",
    "        best_loss = avg_val_loss\n",
    "        torch.save(model.state_dict(), config.MODEL_SAVE_PATH)\n",
    "    if (epoch+1) % 100 == 0:\n",
    "        tqdm.write(f\"Epoch {epoch+1}: Train Loss={avg_loss:.4f}, Val Loss={avg_val_loss:.4f}\")"
   ],
   "id": "2a4bce76b004843c",
   "outputs": [
    {
     "ename": "FileNotFoundError",
     "evalue": "No such file or directory: ./data/spotify.safetensors",
     "output_type": "error",
     "traceback": [
      "\u001B[31m---------------------------------------------------------------------------\u001B[39m",
      "\u001B[31mFileNotFoundError\u001B[39m                         Traceback (most recent call last)",
      "\u001B[36mCell\u001B[39m\u001B[36m \u001B[39m\u001B[32mIn[6]\u001B[39m\u001B[32m, line 1\u001B[39m\n\u001B[32m----> \u001B[39m\u001B[32m1\u001B[39m train_dataloader = \u001B[43mget_dataloader\u001B[49m\u001B[43m(\u001B[49m\u001B[43mpath\u001B[49m\u001B[43m=\u001B[49m\u001B[43mconfig\u001B[49m\u001B[43m.\u001B[49m\u001B[43mDATA_PATH\u001B[49m\u001B[43m,\u001B[49m\u001B[43mmode\u001B[49m\u001B[43m=\u001B[49m\u001B[33;43m'\u001B[39;49m\u001B[33;43mtrain\u001B[39;49m\u001B[33;43m'\u001B[39;49m\u001B[43m,\u001B[49m\u001B[43mbatch_size\u001B[49m\u001B[43m=\u001B[49m\u001B[32;43m64\u001B[39;49m\u001B[43m)\u001B[49m\n\u001B[32m      2\u001B[39m validation_dataloader = get_dataloader(path=config.DATA_PATH,mode=\u001B[33m'\u001B[39m\u001B[33mvalidation\u001B[39m\u001B[33m'\u001B[39m,batch_size=\u001B[32m64\u001B[39m)\n\u001B[32m      4\u001B[39m best_loss = \u001B[38;5;28mfloat\u001B[39m(\u001B[33m'\u001B[39m\u001B[33minf\u001B[39m\u001B[33m'\u001B[39m)\n",
      "\u001B[36mFile \u001B[39m\u001B[32m~\\Desktop\\AI SUNDAYS\\PlayGenie\\src\\playgenie\\data\\dataset.py:22\u001B[39m, in \u001B[36mget_dataloader\u001B[39m\u001B[34m(path, mode, batch_size)\u001B[39m\n\u001B[32m     21\u001B[39m \u001B[38;5;28;01mdef\u001B[39;00m\u001B[38;5;250m \u001B[39m\u001B[34mget_dataloader\u001B[39m(path:\u001B[38;5;28mstr\u001B[39m,mode:Literal[\u001B[33m'\u001B[39m\u001B[33mtrain\u001B[39m\u001B[33m'\u001B[39m,\u001B[33m'\u001B[39m\u001B[33mvalidation\u001B[39m\u001B[33m'\u001B[39m,\u001B[33m'\u001B[39m\u001B[33mtest\u001B[39m\u001B[33m'\u001B[39m],batch_size:\u001B[38;5;28mint\u001B[39m)->torch.utils.data.DataLoader:\n\u001B[32m---> \u001B[39m\u001B[32m22\u001B[39m     \u001B[38;5;28;01mreturn\u001B[39;00m torch.utils.data.DataLoader(dataset=\u001B[43mDataSet\u001B[49m\u001B[43m(\u001B[49m\u001B[43mpath\u001B[49m\u001B[43m=\u001B[49m\u001B[43mpath\u001B[49m\u001B[43m,\u001B[49m\u001B[43m \u001B[49m\u001B[43mmode\u001B[49m\u001B[43m=\u001B[49m\u001B[43mmode\u001B[49m\u001B[43m)\u001B[49m,shuffle=\u001B[38;5;28;01mFalse\u001B[39;00m,batch_size=batch_size)\n",
      "\u001B[36mFile \u001B[39m\u001B[32m~\\Desktop\\AI SUNDAYS\\PlayGenie\\src\\playgenie\\data\\dataset.py:11\u001B[39m, in \u001B[36mDataSet.__init__\u001B[39m\u001B[34m(self, path, mode)\u001B[39m\n\u001B[32m      9\u001B[39m \u001B[38;5;28;01mdef\u001B[39;00m\u001B[38;5;250m \u001B[39m\u001B[34m__init__\u001B[39m(\u001B[38;5;28mself\u001B[39m, path,mode:Literal[\u001B[33m'\u001B[39m\u001B[33mtrain\u001B[39m\u001B[33m'\u001B[39m,\u001B[33m'\u001B[39m\u001B[33mvalidation\u001B[39m\u001B[33m'\u001B[39m,\u001B[33m'\u001B[39m\u001B[33mtest\u001B[39m\u001B[33m'\u001B[39m]=\u001B[33m'\u001B[39m\u001B[33mtrain\u001B[39m\u001B[33m'\u001B[39m)->\u001B[38;5;28;01mNone\u001B[39;00m:\n\u001B[32m     10\u001B[39m     \u001B[38;5;28mself\u001B[39m.data:Union[torch.Tensor,\u001B[38;5;28;01mNone\u001B[39;00m] = \u001B[38;5;28;01mNone\u001B[39;00m\n\u001B[32m---> \u001B[39m\u001B[32m11\u001B[39m     \u001B[38;5;28;01mwith\u001B[39;00m \u001B[43msafe_open\u001B[49m\u001B[43m(\u001B[49m\u001B[43mpath\u001B[49m\u001B[43m,\u001B[49m\u001B[43m \u001B[49m\u001B[43mframework\u001B[49m\u001B[43m=\u001B[49m\u001B[33;43m\"\u001B[39;49m\u001B[33;43mpt\u001B[39;49m\u001B[33;43m\"\u001B[39;49m\u001B[43m)\u001B[49m \u001B[38;5;28;01mas\u001B[39;00m f:\n\u001B[32m     12\u001B[39m         \u001B[38;5;28mself\u001B[39m.data = f.get_tensor(mode)\n",
      "\u001B[31mFileNotFoundError\u001B[39m: No such file or directory: ./data/spotify.safetensors"
     ]
    }
   ],
   "execution_count": 6
  }
 ],
 "metadata": {
  "kernelspec": {
   "display_name": "Python 3",
   "language": "python",
   "name": "python3"
  },
  "language_info": {
   "codemirror_mode": {
    "name": "ipython",
    "version": 2
   },
   "file_extension": ".py",
   "mimetype": "text/x-python",
   "name": "python",
   "nbconvert_exporter": "python",
   "pygments_lexer": "ipython2",
   "version": "2.7.6"
  }
 },
 "nbformat": 4,
 "nbformat_minor": 5
}
