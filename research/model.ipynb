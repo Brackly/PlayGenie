{
 "cells": [
  {
   "metadata": {
    "ExecuteTime": {
     "end_time": "2025-08-12T09:56:07.580685Z",
     "start_time": "2025-08-12T09:55:58.532879Z"
    }
   },
   "cell_type": "code",
   "source": [
    "%load_ext autoreload\n",
    "%autoreload 2"
   ],
   "id": "edb94c8c9cac226c",
   "outputs": [],
   "execution_count": 21
  },
  {
   "cell_type": "code",
   "id": "initial_id",
   "metadata": {
    "collapsed": true,
    "ExecuteTime": {
     "end_time": "2025-08-12T09:57:37.568119Z",
     "start_time": "2025-08-12T09:57:35.797520Z"
    }
   },
   "source": [
    "import torch\n",
    "from playgenie.model import VAE"
   ],
   "outputs": [],
   "execution_count": 1
  },
  {
   "metadata": {
    "ExecuteTime": {
     "end_time": "2025-08-12T09:57:52.484065Z",
     "start_time": "2025-08-12T09:57:52.454313Z"
    }
   },
   "cell_type": "code",
   "source": [
    "model  = VAE(input_size=782, hidden_size=500,latent_size=2)\n",
    "sample_input  = torch.rand((10,1,782))"
   ],
   "id": "962c8818244cf9cf",
   "outputs": [],
   "execution_count": 5
  },
  {
   "metadata": {
    "ExecuteTime": {
     "end_time": "2025-08-12T09:57:54.429387Z",
     "start_time": "2025-08-12T09:57:54.394127Z"
    }
   },
   "cell_type": "code",
   "source": "model(sample_input).shape",
   "id": "60484760e18e8612",
   "outputs": [
    {
     "data": {
      "text/plain": [
       "torch.Size([10, 1, 782])"
      ]
     },
     "execution_count": 6,
     "metadata": {},
     "output_type": "execute_result"
    }
   ],
   "execution_count": 6
  }
 ],
 "metadata": {
  "kernelspec": {
   "display_name": "Python 3",
   "language": "python",
   "name": "python3"
  },
  "language_info": {
   "codemirror_mode": {
    "name": "ipython",
    "version": 2
   },
   "file_extension": ".py",
   "mimetype": "text/x-python",
   "name": "python",
   "nbconvert_exporter": "python",
   "pygments_lexer": "ipython2",
   "version": "2.7.6"
  }
 },
 "nbformat": 4,
 "nbformat_minor": 5
}
