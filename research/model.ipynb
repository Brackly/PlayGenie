{
 "cells": [
  {
   "cell_type": "code",
   "id": "initial_id",
   "metadata": {
    "collapsed": true,
    "ExecuteTime": {
     "end_time": "2025-09-14T08:04:15.994071Z",
     "start_time": "2025-09-14T08:03:41.861118Z"
    }
   },
   "source": [
    "import torch\n",
    "from playgenie.model import VAE\n",
    "from playgenie.utils.qdrant_search import QdrantSearch"
   ],
   "outputs": [
    {
     "name": "stderr",
     "output_type": "stream",
     "text": [
      "C:\\Users\\BracklyMurunga\\Desktop\\AI SUNDAYS\\PlayGenie\\.venv\\Lib\\site-packages\\tqdm\\auto.py:21: TqdmWarning: IProgress not found. Please update jupyter and ipywidgets. See https://ipywidgets.readthedocs.io/en/stable/user_install.html\n",
      "  from .autonotebook import tqdm as notebook_tqdm\n",
      "C:\\Users\\BracklyMurunga\\Desktop\\AI SUNDAYS\\PlayGenie\\src\\playgenie\\utils\\qdrant_search.py:31: UserWarning: Local mode is not recommended for collections with more than 20,000 points. Current collection contains 37963 points. Consider using Qdrant in Docker or Qdrant Cloud for better performance with large datasets.\n",
      "  self.client.upload_collection(\n"
     ]
    }
   ],
   "execution_count": 1
  },
  {
   "metadata": {
    "ExecuteTime": {
     "end_time": "2025-09-14T08:04:16.019349Z",
     "start_time": "2025-09-14T08:04:16.003196Z"
    }
   },
   "cell_type": "code",
   "source": [
    "model  = VAE(input_size=384, hidden_size=10,latent_size=2,encoder_n_heads=2,decoder_n_la=2)\n",
    "optim = torch.optim.Adam(model.parameters())\n",
    "search_client = QdrantSearch()"
   ],
   "id": "962c8818244cf9cf",
   "outputs": [],
   "execution_count": 2
  },
  {
   "metadata": {
    "ExecuteTime": {
     "end_time": "2025-09-08T20:42:48.217829Z",
     "start_time": "2025-09-08T20:42:48.205099Z"
    }
   },
   "cell_type": "code",
   "source": "sum([p.numel() for p in model.parameters()])",
   "id": "b0a8eeaea1f37ea1",
   "outputs": [
    {
     "data": {
      "text/plain": [
       "747568"
      ]
     },
     "execution_count": 3,
     "metadata": {},
     "output_type": "execute_result"
    }
   ],
   "execution_count": 3
  },
  {
   "metadata": {
    "ExecuteTime": {
     "end_time": "2025-09-08T20:41:52.437755Z",
     "start_time": "2025-09-08T20:41:52.417973Z"
    }
   },
   "cell_type": "code",
   "source": [
    "preds,mu,log_var=model(torch.zeros(1,6,384))\n",
    "preds.shape"
   ],
   "id": "91658582826e261",
   "outputs": [
    {
     "data": {
      "text/plain": [
       "torch.Size([1, 6, 384])"
      ]
     },
     "execution_count": 4,
     "metadata": {},
     "output_type": "execute_result"
    }
   ],
   "execution_count": 4
  },
  {
   "metadata": {
    "ExecuteTime": {
     "end_time": "2025-09-08T20:51:33.791953Z",
     "start_time": "2025-09-08T20:51:33.774849Z"
    }
   },
   "cell_type": "code",
   "source": "torch.cat([torch.zeros(384).view(1,-1),torch.zeros(384).view(1,-1)],dim=0).shape",
   "id": "28ef542dbb0182db",
   "outputs": [
    {
     "data": {
      "text/plain": [
       "torch.Size([2, 384])"
      ]
     },
     "execution_count": 3,
     "metadata": {},
     "output_type": "execute_result"
    }
   ],
   "execution_count": 3
  },
  {
   "metadata": {
    "ExecuteTime": {
     "end_time": "2025-09-08T20:53:37.211563Z",
     "start_time": "2025-09-08T20:53:37.176299Z"
    }
   },
   "cell_type": "code",
   "outputs": [
    {
     "data": {
      "text/plain": [
       "torch.Size([1, 384000])"
      ]
     },
     "execution_count": 7,
     "metadata": {},
     "output_type": "execute_result"
    }
   ],
   "execution_count": 7,
   "source": "torch.cat([song.view(1,-1) for song in [torch.zeros(384)for _ in range(1000)]],dim=1).shape",
   "id": "f90d04b7f0f578b6"
  },
  {
   "metadata": {
    "ExecuteTime": {
     "end_time": "2025-09-14T08:00:39.236600Z",
     "start_time": "2025-09-14T08:00:22.660402Z"
    }
   },
   "cell_type": "code",
   "source": "",
   "id": "f095b0d66d10ef56",
   "outputs": [],
   "execution_count": 11
  },
  {
   "metadata": {
    "ExecuteTime": {
     "end_time": "2025-09-14T08:04:29.812803Z",
     "start_time": "2025-09-14T08:04:28.814224Z"
    }
   },
   "cell_type": "code",
   "source": [
    "playlist=[torch.zeros(384)for _ in range(1)]\n",
    "\n",
    "for _ in range(10):\n",
    "    song = model.generate(playlist=playlist)\n",
    "    song_list = search_client.get_item(song_vector=song)\n",
    "    print('1.',song_list[0].payload['song'],'|',song_list[0].score)\n",
    "    playlist.append(torch.tensor(song))"
   ],
   "id": "56fe13808affce11",
   "outputs": [
    {
     "name": "stdout",
     "output_type": "stream",
     "text": [
      "1. las cuatro ranas by el viejo paulino y su gente | 0.1561902704066791\n",
      "1. las cuatro ranas by el viejo paulino y su gente | 0.1497566500289921\n",
      "1. las cuatro ranas by el viejo paulino y su gente | 0.14609889535609394\n",
      "1. she's a mess by the real kids | 0.13469537521049119\n",
      "1. las cuatro ranas by el viejo paulino y su gente | 0.15125819192267093\n",
      "1. kitty - demo by the presidents of the united states of america | 0.1633420690734208\n",
      "1. las cuatro ranas by el viejo paulino y su gente | 0.14409032448423348\n",
      "1. las cuatro ranas by el viejo paulino y su gente | 0.14700369590475248\n",
      "1. las cuatro ranas by el viejo paulino y su gente | 0.14812152030752215\n",
      "1. kitty - demo by the presidents of the united states of america | 0.14913741817375406\n"
     ]
    }
   ],
   "execution_count": 4
  }
 ],
 "metadata": {
  "kernelspec": {
   "display_name": "Python 3",
   "language": "python",
   "name": "python3"
  },
  "language_info": {
   "codemirror_mode": {
    "name": "ipython",
    "version": 2
   },
   "file_extension": ".py",
   "mimetype": "text/x-python",
   "name": "python",
   "nbconvert_exporter": "python",
   "pygments_lexer": "ipython2",
   "version": "2.7.6"
  }
 },
 "nbformat": 4,
 "nbformat_minor": 5
}
