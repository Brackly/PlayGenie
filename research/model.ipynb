{
 "cells": [
  {
   "cell_type": "code",
   "id": "initial_id",
   "metadata": {
    "collapsed": true,
    "ExecuteTime": {
     "end_time": "2025-08-12T13:30:03.843272Z",
     "start_time": "2025-08-12T13:30:01.685500Z"
    }
   },
   "source": [
    "import torch\n",
    "from playgenie.model import VAE\n",
    "from playgenie.loss import generative_loss"
   ],
   "outputs": [],
   "execution_count": 1
  },
  {
   "metadata": {
    "ExecuteTime": {
     "end_time": "2025-08-12T13:30:05.729468Z",
     "start_time": "2025-08-12T13:30:03.858206Z"
    }
   },
   "cell_type": "code",
   "source": [
    "model  = VAE(input_size=782, hidden_size=500,latent_size=2)\n",
    "sample_input  = torch.rand((10,1,782))\n",
    "optim = torch.optim.Adam(model.parameters())"
   ],
   "id": "962c8818244cf9cf",
   "outputs": [],
   "execution_count": 2
  },
  {
   "metadata": {
    "ExecuteTime": {
     "end_time": "2025-08-12T13:31:28.797225Z",
     "start_time": "2025-08-12T13:31:27.266765Z"
    }
   },
   "cell_type": "code",
   "source": [
    "for epoch in range(100):\n",
    "    xhat,mu,log_var = model(sample_input)\n",
    "    optim.zero_grad()\n",
    "    loss = generative_loss(x=sample_input,x_hat=xhat,mu= mu, log_var= log_var)\n",
    "    loss.backward()\n",
    "    optim.step()\n",
    "\n",
    "    if epoch%10==0:\n",
    "        print(f\"Epoch:{epoch}:Loss:{loss.item()}\")"
   ],
   "id": "2a4bce76b004843c",
   "outputs": [
    {
     "name": "stdout",
     "output_type": "stream",
     "text": [
      "Epoch:0:Loss:0.11480433493852615\n",
      "Epoch:10:Loss:0.11465653032064438\n",
      "Epoch:20:Loss:0.11450642347335815\n",
      "Epoch:30:Loss:0.11422562599182129\n",
      "Epoch:40:Loss:0.11435049772262573\n",
      "Epoch:50:Loss:0.11482929438352585\n",
      "Epoch:60:Loss:0.11463038623332977\n",
      "Epoch:70:Loss:0.1146353930234909\n",
      "Epoch:80:Loss:0.11473192274570465\n",
      "Epoch:90:Loss:0.11482581496238708\n"
     ]
    }
   ],
   "execution_count": 6
  }
 ],
 "metadata": {
  "kernelspec": {
   "display_name": "Python 3",
   "language": "python",
   "name": "python3"
  },
  "language_info": {
   "codemirror_mode": {
    "name": "ipython",
    "version": 2
   },
   "file_extension": ".py",
   "mimetype": "text/x-python",
   "name": "python",
   "nbconvert_exporter": "python",
   "pygments_lexer": "ipython2",
   "version": "2.7.6"
  }
 },
 "nbformat": 4,
 "nbformat_minor": 5
}
