{
 "cells": [
  {
   "cell_type": "code",
   "id": "initial_id",
   "metadata": {
    "collapsed": true,
    "ExecuteTime": {
     "end_time": "2025-08-10T16:11:51.936325Z",
     "start_time": "2025-08-10T16:11:51.912361Z"
    }
   },
   "source": [
    "import networkx as nx\n",
    "import numpy as np\n",
    "\n",
    "G = nx.Graph()\n",
    "\n",
    "embedding_dim = 4\n",
    "\n",
    "G.add_node('father',embeddings=np.random.randn(embedding_dim))\n",
    "G.add_node('mother',embeddings=np.random.randn(embedding_dim))\n",
    "G.add_node('son',embeddings=np.random.randn(embedding_dim))\n",
    "G.add_node('puppy',embeddings=np.random.randn(embedding_dim))\n",
    "G.add_edge('father', 'mother',embeddings=np.random.randn(embedding_dim))\n",
    "G.add_edge('father', 'son',embeddings=np.random.randn(embedding_dim))\n",
    "G.add_edge('son', 'mother',embeddings=np.random.randn(embedding_dim))"
   ],
   "outputs": [],
   "execution_count": 11
  },
  {
   "metadata": {
    "ExecuteTime": {
     "end_time": "2025-08-10T16:30:51.837755Z",
     "start_time": "2025-08-10T16:30:51.823956Z"
    }
   },
   "cell_type": "code",
   "source": [
    "for n in G.nodes:\n",
    "    print(G.nodes[n][\"embeddings\"])"
   ],
   "id": "40f7f569aea41ebe",
   "outputs": [
    {
     "name": "stdout",
     "output_type": "stream",
     "text": [
      "[-0.26061304 -0.53891111 -0.18298735 -0.3496054 ]\n",
      "[-2.47622062  1.312488    0.15236366 -0.73695658]\n",
      "[ 0.0086304  -0.24211314 -0.04127376 -0.89895252]\n",
      "[-1.15509799  0.20101394  0.49529001 -0.90362901]\n"
     ]
    }
   ],
   "execution_count": 14
  },
  {
   "metadata": {
    "ExecuteTime": {
     "end_time": "2025-08-06T19:04:34.268212Z",
     "start_time": "2025-08-06T19:04:34.264399Z"
    }
   },
   "cell_type": "code",
   "source": [
    "neighborhood = []\n",
    "for neighbor in list(G.neighbors('father')):\n",
    "    neighborhood.append(G.nodes[neighbor]['embeddings'])\n",
    "    neighborhood.append(G.get_edge_data('father', neighbor)['embeddings'])"
   ],
   "id": "b99287148c5027a4",
   "outputs": [],
   "execution_count": 96
  },
  {
   "metadata": {
    "ExecuteTime": {
     "end_time": "2025-08-06T19:19:48.751194Z",
     "start_time": "2025-08-06T19:19:48.714085Z"
    }
   },
   "cell_type": "code",
   "source": "np.array(neighborhood)",
   "id": "76dac1d8b6091c77",
   "outputs": [
    {
     "data": {
      "text/plain": [
       "array([[-0.17404142,  0.45400824, -1.68307435,  0.41286672],\n",
       "       [-0.03019339,  0.89015479,  1.38621003, -1.09576312],\n",
       "       [-0.40341525,  0.3718906 ,  0.11468926,  0.79627342],\n",
       "       [-0.15989274, -1.83388057, -0.02694712, -0.65072983]])"
      ]
     },
     "execution_count": 103,
     "metadata": {},
     "output_type": "execute_result"
    }
   ],
   "execution_count": 103
  }
 ],
 "metadata": {
  "kernelspec": {
   "display_name": "Python 3",
   "language": "python",
   "name": "python3"
  },
  "language_info": {
   "codemirror_mode": {
    "name": "ipython",
    "version": 2
   },
   "file_extension": ".py",
   "mimetype": "text/x-python",
   "name": "python",
   "nbconvert_exporter": "python",
   "pygments_lexer": "ipython2",
   "version": "2.7.6"
  }
 },
 "nbformat": 4,
 "nbformat_minor": 5
}
