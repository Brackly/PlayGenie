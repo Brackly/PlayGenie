{
 "cells": [
  {
   "metadata": {
    "ExecuteTime": {
     "end_time": "2025-08-10T15:25:11.016712Z",
     "start_time": "2025-08-10T15:25:09.657155Z"
    }
   },
   "cell_type": "code",
   "source": [
    "import pandas as pd\n",
    "import numpy as np\n",
    "from typing import Union,List,Tuple,Dict\n",
    "import networkx as nx"
   ],
   "id": "3112f11fff5669a9",
   "outputs": [],
   "execution_count": 80
  },
  {
   "metadata": {
    "ExecuteTime": {
     "end_time": "2025-08-10T14:05:39.005055Z",
     "start_time": "2025-08-10T14:05:38.911048Z"
    }
   },
   "cell_type": "code",
   "source": "!ls ../data",
   "id": "2f62963a23c37c32",
   "outputs": [
    {
     "name": "stdout",
     "output_type": "stream",
     "text": [
      "spotify_dataset.csv\n"
     ]
    }
   ],
   "execution_count": 4
  },
  {
   "metadata": {
    "ExecuteTime": {
     "end_time": "2025-08-10T14:40:10.087848Z",
     "start_time": "2025-08-10T14:39:41.211624Z"
    }
   },
   "cell_type": "code",
   "source": [
    "df = pd.read_csv(\"../data/spotify_dataset.csv\",on_bad_lines='skip')\n",
    "df.rename(columns={x:x.strip().replace('\"','') for x in df.columns},inplace=True)\n",
    "# df = df.sample(1000)\n",
    "df = df.dropna()"
   ],
   "id": "6d90edcf1a3ac85e",
   "outputs": [],
   "execution_count": 56
  },
  {
   "metadata": {
    "ExecuteTime": {
     "end_time": "2025-08-10T14:40:47.330064Z",
     "start_time": "2025-08-10T14:40:47.321119Z"
    }
   },
   "cell_type": "code",
   "source": [
    "def process_text(text:str)->Union[str,np.nan]:\n",
    "    try:\n",
    "        return str(text).strip().lower().replace(' ','')\n",
    "    except Exception :\n",
    "        return np.nan"
   ],
   "id": "14c5e7d40a64dd67",
   "outputs": [],
   "execution_count": 58
  },
  {
   "metadata": {
    "ExecuteTime": {
     "end_time": "2025-08-10T14:41:24.764664Z",
     "start_time": "2025-08-10T14:40:49.915678Z"
    }
   },
   "cell_type": "code",
   "source": [
    "for col in df.columns:\n",
    "    df[col] = df[col].apply(process_text)"
   ],
   "id": "9523b4ac02f1695f",
   "outputs": [],
   "execution_count": 59
  },
  {
   "metadata": {
    "ExecuteTime": {
     "end_time": "2025-08-10T14:41:37.204758Z",
     "start_time": "2025-08-10T14:41:24.784455Z"
    }
   },
   "cell_type": "code",
   "source": [
    "print(len(df))\n",
    "for col in df.columns:\n",
    "    print(f\"{col}:{df[col].nunique()}\")"
   ],
   "id": "479066c017be2885",
   "outputs": [
    {
     "name": "stdout",
     "output_type": "stream",
     "text": [
      "12856831\n",
      "user_id:15914\n",
      "artistname:280337\n",
      "trackname:1876538\n",
      "playlistname:147376\n"
     ]
    }
   ],
   "execution_count": 60
  },
  {
   "metadata": {
    "ExecuteTime": {
     "end_time": "2025-08-10T14:46:08.050721Z",
     "start_time": "2025-08-10T14:46:08.032210Z"
    }
   },
   "cell_type": "code",
   "outputs": [
    {
     "data": {
      "text/plain": [
       "0"
      ]
     },
     "execution_count": 61,
     "metadata": {},
     "output_type": "execute_result"
    }
   ],
   "execution_count": 61,
   "source": [
    "c = [1]\n",
    "\n",
    "c.index(1)"
   ],
   "id": "6e24adb51f7b0661"
  },
  {
   "metadata": {
    "ExecuteTime": {
     "end_time": "2025-08-10T15:57:45.533895Z",
     "start_time": "2025-08-10T15:57:45.342343Z"
    }
   },
   "cell_type": "code",
   "source": [
    "playlists:Dict[str,List[Tuple[dict,dict]]] = {playlist:[] for playlist in df[:10000][\"playlistname\"].values}\n",
    "\n",
    "for _,rows in df[:10000].iterrows():\n",
    "    playlists[f'{rows['playlistname']}'].append(({'artist':rows['artistname']},{'artist':rows['trackname']}))"
   ],
   "id": "153ef47cebdc8642",
   "outputs": [],
   "execution_count": 115
  },
  {
   "metadata": {
    "ExecuteTime": {
     "end_time": "2025-08-10T16:02:38.008629Z",
     "start_time": "2025-08-10T16:02:37.786478Z"
    }
   },
   "cell_type": "code",
   "source": [
    "playlists:Dict[str,nx.Graph] = {playlist:nx.Graph() for playlist in df[:10000][\"playlistname\"].values}\n",
    "\n",
    "for _,rows in df[:10000].iterrows():\n",
    "    playlists[f'{rows['playlistname']}'].add_node(f'{rows[\"artistname\"]}',embedding=[])\n",
    "    playlists[f'{rows['playlistname']}'].add_node(f'{rows[\"trackname\"]}',embedding=[])"
   ],
   "id": "a42f1a906b070b6b",
   "outputs": [],
   "execution_count": 117
  },
  {
   "metadata": {
    "ExecuteTime": {
     "end_time": "2025-08-10T16:02:45.219706Z",
     "start_time": "2025-08-10T16:02:45.217311Z"
    }
   },
   "cell_type": "code",
   "source": "sample = list(playlists.values())[0]",
   "id": "e28eba2af46c66fb",
   "outputs": [],
   "execution_count": 118
  },
  {
   "metadata": {
    "ExecuteTime": {
     "end_time": "2025-08-10T16:32:47.631025Z",
     "start_time": "2025-08-10T16:32:47.627479Z"
    }
   },
   "cell_type": "code",
   "source": [
    "for node in sample.nodes:\n",
    "    print(node,sample.nodes[node])\n",
    "    break"
   ],
   "id": "8d2b5ed0fe20813e",
   "outputs": [
    {
     "name": "stdout",
     "output_type": "stream",
     "text": [
      "elviscostello {'embedding': []}\n"
     ]
    }
   ],
   "execution_count": 133
  }
 ],
 "metadata": {
  "kernelspec": {
   "display_name": "Python 3",
   "language": "python",
   "name": "python3"
  },
  "language_info": {
   "codemirror_mode": {
    "name": "ipython",
    "version": 2
   },
   "file_extension": ".py",
   "mimetype": "text/x-python",
   "name": "python",
   "nbconvert_exporter": "python",
   "pygments_lexer": "ipython2",
   "version": "2.7.6"
  }
 },
 "nbformat": 4,
 "nbformat_minor": 5
}
